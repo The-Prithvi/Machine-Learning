{
 "cells": [
  {
   "cell_type": "code",
   "execution_count": 2,
   "id": "e603b18e-c908-4e91-832e-99060a77e78e",
   "metadata": {},
   "outputs": [
    {
     "name": "stdout",
     "output_type": "stream",
     "text": [
      "[100441.04803493]\n",
      "\n",
      "   Experience  Test Score (out of 10)  Interview Score (out of 10)  Salary ($)\n",
      "0           0                     8.0                            9       50000\n",
      "1           0                     8.0                            6       45000\n",
      "2           5                     6.0                            7       60000\n",
      "3           2                    10.0                           10       65000\n",
      "4           7                     9.0                            6       70000\n",
      "5           3                     7.0                           10       62000\n",
      "6          10                     8.0                            7       72000\n",
      "7          11                     7.0                            8       80000\n",
      "LinearRegression()\n"
     ]
    },
    {
     "name": "stderr",
     "output_type": "stream",
     "text": [
      "C:\\Users\\prith\\AppData\\Local\\Programs\\Python\\Python312\\Lib\\site-packages\\sklearn\\base.py:465: UserWarning: X does not have valid feature names, but LinearRegression was fitted with feature names\n",
      "  warnings.warn(\n"
     ]
    },
    {
     "data": {
      "text/plain": [
       "0.9616780002577959"
      ]
     },
     "execution_count": 2,
     "metadata": {},
     "output_type": "execute_result"
    }
   ],
   "source": [
    "import pandas as pd\n",
    "from word2number import w2n\n",
    "from sklearn import linear_model\n",
    "import joblib\n",
    "\n",
    "df = pd.read_csv(\"./salary analysis.csv\")\n",
    "df\n",
    "df.Experience.fillna(0, inplace = True)\n",
    "for i in df.Experience:\n",
    "    df.replace(i, w2n.word_to_num(str(i)), inplace = True)\n",
    "# df[\"Test Score (out of 10)\"].interpolate(inplace = True, axis = \"columns\")\n",
    "df[\"Test Score (out of 10)\"].fillna(df[\"Test Score (out of 10)\"].median(), inplace = True)\n",
    "reg = linear_model.LinearRegression()\n",
    "reg.fit(df[[\"Experience\", \"Test Score (out of 10)\", \"Interview Score (out of 10)\"]], df[\"Salary ($)\"])\n",
    "joblib.dump(reg, \"salary_analysis_model\")\n",
    "model = joblib.load('salary_analysis_model')\n",
    "print(model.predict([[15, 10, 10]]))\n",
    "print()\n",
    "print(df)\n",
    "print(model)\n",
    "model.score(df[[\"Experience\", \"Test Score (out of 10)\", \"Interview Score (out of 10)\"]], df[\"Salary ($)\"])"
   ]
  }
 ],
 "metadata": {
  "kernelspec": {
   "display_name": "Python 3 (ipykernel)",
   "language": "python",
   "name": "python3"
  },
  "language_info": {
   "codemirror_mode": {
    "name": "ipython",
    "version": 3
   },
   "file_extension": ".py",
   "mimetype": "text/x-python",
   "name": "python",
   "nbconvert_exporter": "python",
   "pygments_lexer": "ipython3",
   "version": "3.12.0"
  }
 },
 "nbformat": 4,
 "nbformat_minor": 5
}
