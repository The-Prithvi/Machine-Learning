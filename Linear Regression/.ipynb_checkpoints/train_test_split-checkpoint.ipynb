{
 "cells": [
  {
   "cell_type": "code",
   "execution_count": 99,
   "id": "ba755e74-0b90-4c77-9f3d-0f4330b486d2",
   "metadata": {},
   "outputs": [
    {
     "name": "stdout",
     "output_type": "stream",
     "text": [
      "35    85000\n",
      "0     50000\n",
      "22    72000\n",
      "17    67000\n",
      "6     56000\n",
      "9     59000\n",
      "5     55000\n",
      "34    84000\n",
      "Name: rate, dtype: int64\n"
     ]
    },
    {
     "data": {
      "text/plain": [
       "array([85000., 50000., 72000., 67000., 56000., 59000., 55000., 84000.])"
      ]
     },
     "execution_count": 99,
     "metadata": {},
     "output_type": "execute_result"
    }
   ],
   "source": [
    "from sklearn.model_selection import train_test_split\n",
    "from sklearn.linear_model import LinearRegression\n",
    "import pandas as pd\n",
    "\n",
    "df = pd.read_csv(\"daily_gold_rate.csv\")\n",
    "x = df[['date']]\n",
    "y = df['rate']\n",
    "model = LinearRegression()\n",
    "x_train, x_test, y_train, y_test = train_test_split(x, y, test_size = 0.2, random_state = 38)\n",
    "model.fit(x_train, y_train)\n",
    "print(y_test)\n",
    "model.predict(x_test)\n"
   ]
  }
 ],
 "metadata": {
  "kernelspec": {
   "display_name": "Python 3 (ipykernel)",
   "language": "python",
   "name": "python3"
  },
  "language_info": {
   "codemirror_mode": {
    "name": "ipython",
    "version": 3
   },
   "file_extension": ".py",
   "mimetype": "text/x-python",
   "name": "python",
   "nbconvert_exporter": "python",
   "pygments_lexer": "ipython3",
   "version": "3.12.0"
  }
 },
 "nbformat": 4,
 "nbformat_minor": 5
}
