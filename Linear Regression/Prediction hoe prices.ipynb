{
 "cells": [
  {
   "cell_type": "code",
   "execution_count": 18,
   "id": "b90a1d1a-f9bd-4459-819c-7a42d62d589f",
   "metadata": {},
   "outputs": [
    {
     "name": "stderr",
     "output_type": "stream",
     "text": [
      "C:\\Users\\prith\\AppData\\Local\\Programs\\Python\\Python312\\Lib\\site-packages\\sklearn\\base.py:465: UserWarning: X does not have valid feature names, but LinearRegression was fitted with feature names\n",
      "  warnings.warn(\n"
     ]
    },
    {
     "data": {
      "text/plain": [
       "array([357093.07800973])"
      ]
     },
     "execution_count": 18,
     "metadata": {},
     "output_type": "execute_result"
    }
   ],
   "source": [
    "import pandas as pd\n",
    "import matplotlib.pyplot as plt\n",
    "import numpy as np\n",
    "from sklearn import linear_model\n",
    "\n",
    "data = pd.read_csv(\"./Home Prices.csv\")\n",
    "data.interpolate(inplace = True)\n",
    "reg = linear_model.LinearRegression()\n",
    "reg.fit(data[[\"Area\", \"Bedrooms\", \"Age\"]], data.Price)\n",
    "reg.predict([[3000, 4, 30]])\n",
    "# plt.plot(data.Price, reg.predict(data[[\"Price\"]]))\n",
    "# data"
   ]
  }
 ],
 "metadata": {
  "kernelspec": {
   "display_name": "Python 3 (ipykernel)",
   "language": "python",
   "name": "python3"
  },
  "language_info": {
   "codemirror_mode": {
    "name": "ipython",
    "version": 3
   },
   "file_extension": ".py",
   "mimetype": "text/x-python",
   "name": "python",
   "nbconvert_exporter": "python",
   "pygments_lexer": "ipython3",
   "version": "3.12.0"
  }
 },
 "nbformat": 4,
 "nbformat_minor": 5
}
