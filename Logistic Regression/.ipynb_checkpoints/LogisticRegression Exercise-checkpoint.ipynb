{
 "cells": [
  {
   "cell_type": "markdown",
   "id": "c984d470-e6dd-476a-a67f-970cda8d4ee5",
   "metadata": {},
   "source": [
    "## LogisticRegression Exercise"
   ]
  },
  {
   "cell_type": "markdown",
   "id": "7daf3330-ca8b-44e9-a1e4-127f0cecd1e3",
   "metadata": {},
   "source": [
    "Download employee retention dataset from here: https://www.kaggle.com/giripujar/hr-analytics.\n",
    "\n",
    "1. Now do some exploratory data analysis to figure out which variables have direct and clear impact on employee retention (i.e., whether they leave the company or continue to work)\n",
    "2. Plot bar charts showing impact of employee salaries on retention\n",
    "3. Plot bar charts showing correlation between department and employee retention\n",
    "4. Now build logistic regression model using variables that were narrowed down in step 1\n",
    "5. Measure the accuracy of the model\n"
   ]
  },
  {
   "cell_type": "code",
   "execution_count": 38,
   "id": "33201c1f-f6fa-498b-bc80-14f9a941d564",
   "metadata": {},
   "outputs": [
    {
     "ename": "NameError",
     "evalue": "name 'numeric_columns' is not defined",
     "output_type": "error",
     "traceback": [
      "\u001b[1;31m---------------------------------------------------------------------------\u001b[0m",
      "\u001b[1;31mNameError\u001b[0m                                 Traceback (most recent call last)",
      "Cell \u001b[1;32mIn[38], line 7\u001b[0m\n\u001b[0;32m      4\u001b[0m \u001b[38;5;28;01mfrom\u001b[39;00m \u001b[38;5;21;01msklearn\u001b[39;00m\u001b[38;5;21;01m.\u001b[39;00m\u001b[38;5;21;01mmodel_selection\u001b[39;00m \u001b[38;5;28;01mimport\u001b[39;00m train_test_split\n\u001b[0;32m      6\u001b[0m df \u001b[38;5;241m=\u001b[39m pd\u001b[38;5;241m.\u001b[39mread_csv(\u001b[38;5;124m\"\u001b[39m\u001b[38;5;124mHR_comma_sep.csv\u001b[39m\u001b[38;5;124m\"\u001b[39m)\n\u001b[1;32m----> 7\u001b[0m df\u001b[38;5;241m.\u001b[39mgroupby(\u001b[38;5;124m'\u001b[39m\u001b[38;5;124mleft\u001b[39m\u001b[38;5;124m'\u001b[39m)[\u001b[43mnumeric_columns\u001b[49m]\u001b[38;5;241m.\u001b[39mmean()\n\u001b[0;32m      8\u001b[0m df\n\u001b[0;32m      9\u001b[0m \u001b[38;5;66;03m# plt.scatter(df.time_spend_company, df.salary)\u001b[39;00m\n",
      "\u001b[1;31mNameError\u001b[0m: name 'numeric_columns' is not defined"
     ]
    }
   ],
   "source": [
    "import pandas as pd\n",
    "import matplotlib.pyplot as plt\n",
    "from sklearn.linear_model import LogisticRegression\n",
    "from sklearn.model_selection import train_test_split\n",
    "\n",
    "df = pd.read_csv(\"HR_comma_sep.csv\")\n",
    "numeric_columns = df.select_dtypes(include=['int', 'float']).columns\n",
    "df.groupby('left')[numeric_columns].mean()\n",
    "df\n",
    "# plt.scatter(df.time_spend_company, df.salary)"
   ]
  },
  {
   "cell_type": "code",
   "execution_count": null,
   "id": "4c6fbdfb-3920-418a-8e4c-7b6f5482faa9",
   "metadata": {},
   "outputs": [],
   "source": []
  }
 ],
 "metadata": {
  "kernelspec": {
   "display_name": "Python 3 (ipykernel)",
   "language": "python",
   "name": "python3"
  },
  "language_info": {
   "codemirror_mode": {
    "name": "ipython",
    "version": 3
   },
   "file_extension": ".py",
   "mimetype": "text/x-python",
   "name": "python",
   "nbconvert_exporter": "python",
   "pygments_lexer": "ipython3",
   "version": "3.12.0"
  }
 },
 "nbformat": 4,
 "nbformat_minor": 5
}
