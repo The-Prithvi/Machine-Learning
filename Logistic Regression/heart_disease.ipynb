{
 "cells": [
  {
   "cell_type": "code",
   "execution_count": 162,
   "id": "6fbce43b-544a-431a-80ff-46281bcc8386",
   "metadata": {},
   "outputs": [
    {
     "name": "stdout",
     "output_type": "stream",
     "text": [
      "1.0\n",
      "[0 1 0 1 1 0 0 1 0]\n",
      "2103    0\n",
      "163     1\n",
      "1130    0\n",
      "3308    1\n",
      "1015    1\n",
      "2227    0\n",
      "2099    0\n",
      "743     1\n",
      "252     0\n",
      "Name: currentSmoker, dtype: int64\n"
     ]
    },
    {
     "name": "stderr",
     "output_type": "stream",
     "text": [
      "C:\\Users\\prith\\AppData\\Local\\Programs\\Python\\Python312\\Lib\\site-packages\\sklearn\\linear_model\\_logistic.py:460: ConvergenceWarning: lbfgs failed to converge (status=1):\n",
      "STOP: TOTAL NO. of ITERATIONS REACHED LIMIT.\n",
      "\n",
      "Increase the number of iterations (max_iter) or scale the data as shown in:\n",
      "    https://scikit-learn.org/stable/modules/preprocessing.html\n",
      "Please also refer to the documentation for alternative solver options:\n",
      "    https://scikit-learn.org/stable/modules/linear_model.html#logistic-regression\n",
      "  n_iter_i = _check_optimize_result(\n"
     ]
    }
   ],
   "source": [
    "import pandas as pd\n",
    "from sklearn.linear_model import LogisticRegression\n",
    "from sklearn.model_selection import train_test_split\n",
    "import matplotlib.pyplot as plt\n",
    "\n",
    "df = pd.read_csv(\"heart_disease.csv\")\n",
    "# print(df.columns)\n",
    "for i in df.columns:\n",
    "    df[i].fillna(int(df[i].mean()), inplace = True)\n",
    "\n",
    "train_li = []\n",
    "for i in df:\n",
    "    if(i == \"currentSmoker\"):\n",
    "        continue\n",
    "    train_li.append(str(i))\n",
    "    \n",
    "x = df[train_li] \n",
    "y = df[\"currentSmoker\"]\n",
    "# print(li)\n",
    "\n",
    "x_train, x_test, y_train, y_test = train_test_split(x, y, test_size = 0.002)\n",
    "y_test\n",
    "model = LogisticRegression()\n",
    "model.fit(x_train, y_train)\n",
    "print(model.score(x_test, y_test))\n",
    "print(model.predict(x_test))\n",
    "print(y_test)"
   ]
  }
 ],
 "metadata": {
  "kernelspec": {
   "display_name": "Python 3 (ipykernel)",
   "language": "python",
   "name": "python3"
  },
  "language_info": {
   "codemirror_mode": {
    "name": "ipython",
    "version": 3
   },
   "file_extension": ".py",
   "mimetype": "text/x-python",
   "name": "python",
   "nbconvert_exporter": "python",
   "pygments_lexer": "ipython3",
   "version": "3.12.0"
  }
 },
 "nbformat": 4,
 "nbformat_minor": 5
}
