{
 "cells": [
  {
   "cell_type": "markdown",
   "id": "c984d470-e6dd-476a-a67f-970cda8d4ee5",
   "metadata": {},
   "source": [
    "## LogisticRegression Exercise"
   ]
  },
  {
   "cell_type": "markdown",
   "id": "7daf3330-ca8b-44e9-a1e4-127f0cecd1e3",
   "metadata": {},
   "source": [
    "Download employee retention dataset from here: https://www.kaggle.com/giripujar/hr-analytics.\n",
    "\n",
    "1. Now do some exploratory data analysis to figure out which variables have direct and clear impact on employee retention (i.e., whether they leave the company or continue to work)\n",
    "2. Plot bar charts showing impact of employee salaries on retention\n",
    "3. Plot bar charts showing correlation between department and employee retention\n",
    "4. Now build logistic regression model using variables that were narrowed down in step 1\n",
    "5. Measure the accuracy of the model\n"
   ]
  },
  {
   "cell_type": "code",
   "execution_count": 60,
   "id": "33201c1f-f6fa-498b-bc80-14f9a941d564",
   "metadata": {},
   "outputs": [
    {
     "ename": "SyntaxError",
     "evalue": "unmatched ')' (714390731.py, line 10)",
     "output_type": "error",
     "traceback": [
      "\u001b[1;36m  Cell \u001b[1;32mIn[60], line 10\u001b[1;36m\u001b[0m\n\u001b[1;33m    pd.crosstab(df.Department, df.groupby('left')[numeric_columns].mean())[\"satisfaction_level\"]).plot(kind = \"bar\")\u001b[0m\n\u001b[1;37m                                                                                                ^\u001b[0m\n\u001b[1;31mSyntaxError\u001b[0m\u001b[1;31m:\u001b[0m unmatched ')'\n"
     ]
    }
   ],
   "source": [
    "import pandas as pd\n",
    "import matplotlib.pyplot as plt\n",
    "from sklearn.linear_model import LogisticRegression\n",
    "from sklearn.model_selection import train_test_split\n",
    "\n",
    "df = pd.read_csv(\"HR_comma_sep.csv\")\n",
    "numeric_columns = df.select_dtypes(include=['int', 'float']).columns\n",
    "df2 = pd.DataFrame(df.groupby('left')[numeric_columns].mean())\n",
    "# pd.crosstab(pd.DataFrame(df.groupby('left')[numeric_columns].mean())[\"satisfaction_level\"], df.salary)\n",
    "pd.crosstab(df.Department, df.groupby('left')[numeric_columns].mean()[\"satisfaction_level\"]).plot(kind = \"bar\")"
   ]
  },
  {
   "cell_type": "code",
   "execution_count": null,
   "id": "4c6fbdfb-3920-418a-8e4c-7b6f5482faa9",
   "metadata": {},
   "outputs": [],
   "source": []
  }
 ],
 "metadata": {
  "kernelspec": {
   "display_name": "Python 3 (ipykernel)",
   "language": "python",
   "name": "python3"
  },
  "language_info": {
   "codemirror_mode": {
    "name": "ipython",
    "version": 3
   },
   "file_extension": ".py",
   "mimetype": "text/x-python",
   "name": "python",
   "nbconvert_exporter": "python",
   "pygments_lexer": "ipython3",
   "version": "3.12.0"
  }
 },
 "nbformat": 4,
 "nbformat_minor": 5
}
