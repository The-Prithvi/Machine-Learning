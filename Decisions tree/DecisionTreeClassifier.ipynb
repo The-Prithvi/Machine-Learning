{
 "cells": [
  {
   "cell_type": "code",
   "execution_count": 85,
   "id": "1121f058-69d4-444e-8f26-d36b54bc0441",
   "metadata": {},
   "outputs": [
    {
     "name": "stdout",
     "output_type": "stream",
     "text": [
      "[[ Mapped Data ]]\n",
      "\n",
      "    Comapny Data  Encoded Data             Job Data  Encoded Data Job  \\\n",
      "0        Google             2      Sales Executive                 2   \n",
      "1        Google             2      Sales Executive                 2   \n",
      "2        Google             2     Business Manager                 0   \n",
      "3        Google             2     Business Manager                 0   \n",
      "4        Google             2  Computer Programmer                 1   \n",
      "5        Google             2  Computer Programmer                 1   \n",
      "6    ABC Pharma             0      Sales Executive                 2   \n",
      "7    ABC Pharma             0  Computer Programmer                 1   \n",
      "8    ABC Pharma             0     Business Manager                 0   \n",
      "9    ABC Pharma             0     Business Manager                 0   \n",
      "10     Facebook             1      Sales Executive                 2   \n",
      "11     Facebook             1      Sales Executive                 2   \n",
      "12     Facebook             1     Business Manager                 0   \n",
      "13     Facebook             1     Business Manager                 0   \n",
      "14     Facebook             1  Computer Programmer                 1   \n",
      "15     Facebook             1  Computer Programmer                 1   \n",
      "\n",
      "   Degree Data  Encoded Data Degree  \n",
      "0    Bachelors                    0  \n",
      "1      Masters                    1  \n",
      "2    Bachelors                    0  \n",
      "3      Masters                    1  \n",
      "4    Bachelors                    0  \n",
      "5      Masters                    1  \n",
      "6      Masters                    1  \n",
      "7    Bachelors                    0  \n",
      "8    Bachelors                    0  \n",
      "9      Masters                    1  \n",
      "10   Bachelors                    0  \n",
      "11     Masters                    1  \n",
      "12   Bachelors                    0  \n",
      "13     Masters                    1  \n",
      "14   Bachelors                    0  \n",
      "15     Masters                    1  \n",
      "       Company                  Job     Degree  Salary_More_Than_$100k\n",
      "0       Google      Sales Executive  Bachelors                       0\n",
      "1       Google      Sales Executive    Masters                       0\n",
      "2       Google     Business Manager  Bachelors                       1\n",
      "3       Google     Business Manager    Masters                       1\n",
      "4       Google  Computer Programmer  Bachelors                       0\n",
      "5       Google  Computer Programmer    Masters                       1\n",
      "6   ABC Pharma      Sales Executive    Masters                       0\n",
      "7   ABC Pharma  Computer Programmer  Bachelors                       0\n",
      "8   ABC Pharma     Business Manager  Bachelors                       0\n",
      "9   ABC Pharma     Business Manager    Masters                       1\n",
      "10    Facebook      Sales Executive  Bachelors                       1\n",
      "11    Facebook      Sales Executive    Masters                       1\n",
      "12    Facebook     Business Manager  Bachelors                       1\n",
      "13    Facebook     Business Manager    Masters                       1\n",
      "14    Facebook  Computer Programmer  Bachelors                       1\n",
      "15    Facebook  Computer Programmer    Masters                       1\n"
     ]
    },
    {
     "name": "stderr",
     "output_type": "stream",
     "text": [
      "C:\\Users\\prith\\AppData\\Local\\Programs\\Python\\Python312\\Lib\\site-packages\\sklearn\\base.py:465: UserWarning: X does not have valid feature names, but DecisionTreeClassifier was fitted with feature names\n",
      "  warnings.warn(\n",
      "C:\\Users\\prith\\AppData\\Local\\Programs\\Python\\Python312\\Lib\\site-packages\\sklearn\\base.py:465: UserWarning: X does not have valid feature names, but DecisionTreeClassifier was fitted with feature names\n",
      "  warnings.warn(\n"
     ]
    },
    {
     "data": {
      "text/plain": [
       "array([0], dtype=int64)"
      ]
     },
     "execution_count": 85,
     "metadata": {},
     "output_type": "execute_result"
    }
   ],
   "source": [
    "import pandas as pd\n",
    "import matplotlib.pyplot as plt\n",
    "from sklearn.preprocessing import LabelEncoder\n",
    "from sklearn import tree\n",
    "\n",
    "df = pd.read_csv(\"emplyee_salaray_company_analysis.csv\")\n",
    "\n",
    "train = df.drop(\"Salary_More_Than_$100k\", axis = \"columns\")\n",
    "target = df[\"Salary_More_Than_$100k\"]\n",
    "\n",
    "encoder = LabelEncoder()\n",
    "\n",
    "\n",
    "train[\"Company\"] = encoder.fit_transform(train[\"Company\"])\n",
    "train[\"Job\"] = encoder.fit_transform(train[\"Job\"])\n",
    "train[\"Degree\"] = encoder.fit_transform(train[\"Degree\"])\n",
    "\n",
    "mapping_table = pd.DataFrame({\n",
    "    'Comapny Data': df[\"Company\"],\n",
    "    'Encoded Data': encoder.fit_transform(train[\"Company\"]),\n",
    "    'Job Data': df[\"Job\"],\n",
    "    'Encoded Data Job': encoder.fit_transform(train[\"Job\"]),\n",
    "    'Degree Data': df[\"Degree\"],\n",
    "    'Encoded Data Degree': encoder.fit_transform(train[\"Degree\"])\n",
    "})\n",
    "print(\"[[ Mapped Data ]]\\n\\n\", mapping_table)\n",
    "\n",
    "model = tree.DecisionTreeClassifier()\n",
    "model.fit(train, target)\n",
    "print(df)\n",
    "model.score([[2,1,0]], [0])\n",
    "model.predict([[2,1,0]])"
   ]
  },
  {
   "cell_type": "code",
   "execution_count": null,
   "id": "48858ba0-6252-4efe-8840-f2cd04c73734",
   "metadata": {},
   "outputs": [],
   "source": []
  }
 ],
 "metadata": {
  "kernelspec": {
   "display_name": "Python 3 (ipykernel)",
   "language": "python",
   "name": "python3"
  },
  "language_info": {
   "codemirror_mode": {
    "name": "ipython",
    "version": 3
   },
   "file_extension": ".py",
   "mimetype": "text/x-python",
   "name": "python",
   "nbconvert_exporter": "python",
   "pygments_lexer": "ipython3",
   "version": "3.12.0"
  }
 },
 "nbformat": 4,
 "nbformat_minor": 5
}
