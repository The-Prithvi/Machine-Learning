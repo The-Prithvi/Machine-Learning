{
 "cells": [
  {
   "cell_type": "code",
   "execution_count": 4,
   "id": "a8a090a9-46c0-47fe-933d-fa875ad3b960",
   "metadata": {},
   "outputs": [],
   "source": [
    "from sklearn.model_selection import train_test_split\n",
    "from sklearn.datasets import load_digits"
   ]
  },
  {
   "cell_type": "code",
   "execution_count": 6,
   "id": "7526fea6-67a4-4912-bbd7-b8a8e5a2b23b",
   "metadata": {},
   "outputs": [
    {
     "data": {
      "text/plain": [
       "['DESCR', 'data', 'feature_names', 'frame', 'images', 'target', 'target_names']"
      ]
     },
     "execution_count": 6,
     "metadata": {},
     "output_type": "execute_result"
    }
   ],
   "source": [
    "digits = load_digits()\n",
    "dir(digits)"
   ]
  },
  {
   "cell_type": "code",
   "execution_count": 13,
   "id": "588947e8-5686-4eb1-b66d-dc2889e584c3",
   "metadata": {},
   "outputs": [],
   "source": [
    "import pandas as pd\n",
    "x = pd.DataFrame(digits.data)\n",
    "y = pd.DataFrame(digits.target)\n"
   ]
  },
  {
   "cell_type": "code",
   "execution_count": 17,
   "id": "354e7593-b14e-4740-abda-8df6fc133c6e",
   "metadata": {},
   "outputs": [],
   "source": [
    "x_train, x_test, y_train, y_test = train_test_split(x, y, test_size = 0.2)"
   ]
  },
  {
   "cell_type": "code",
   "execution_count": 21,
   "id": "7a0366bb-7f7d-4371-b182-c5e53561d606",
   "metadata": {},
   "outputs": [
    {
     "name": "stderr",
     "output_type": "stream",
     "text": [
      "C:\\Users\\prith\\AppData\\Local\\Programs\\Python\\Python312\\Lib\\site-packages\\sklearn\\base.py:1152: DataConversionWarning: A column-vector y was passed when a 1d array was expected. Please change the shape of y to (n_samples,), for example using ravel().\n",
      "  return fit_method(estimator, *args, **kwargs)\n"
     ]
    },
    {
     "data": {
      "text/plain": [
       "0.9777777777777777"
      ]
     },
     "execution_count": 21,
     "metadata": {},
     "output_type": "execute_result"
    }
   ],
   "source": [
    "from sklearn.ensemble import RandomForestClassifier\n",
    "model = RandomForestClassifier()\n",
    "model.fit(x_train, y_train)\n",
    "model.score(x_test, y_test)"
   ]
  },
  {
   "cell_type": "code",
   "execution_count": 25,
   "id": "a2eb998a-96cb-4da9-9819-af228681677b",
   "metadata": {},
   "outputs": [
    {
     "name": "stdout",
     "output_type": "stream",
     "text": [
      "[0 7 4 5 4 2 5 4 7 6 5 3 3 2 9 3 1 3 9 5 8 7 8 6 7 1 0 9 5 1 5 0 2 8 4 5 1\n",
      " 2 6 4 8 8 1 0 1 6 0 3 2 0 8 7 8 1 0 1 1 8 9 2 4 4 0 2 4 4 6 5 3 4 4 4 6 4\n",
      " 1 0 2 2 5 5 1 5 4 2 7 5 2 6 5 6 7 5 7 2 9 1 1 7 5 2 1 7 0 5 1 4 9 9 2 5 6\n",
      " 0 9 4 9 4 5 9 8 2 4 7 5 2 5 5 2 7 3 0 2 5 1 0 6 5 8 4 7 2 8 5 6 5 4 8 4 3\n",
      " 0 9 7 5 3 7 1 2 0 3 8 9 4 5 8 3 7 9 8 4 6 5 7 3 5 4 7 6 8 9 5 5 7 7 7 7 4\n",
      " 8 7 7 8 9 6 6 1 3 3 8 8 2 5 3 2 5 3 0 4 7 9 7 0 1 6 2 5 3 5 1 7 5 6 7 2 7\n",
      " 2 9 0 5 6 1 5 7 8 7 5 4 4 5 7 6 2 5 4 3 3 1 3 8 6 2 7 7 1 4 8 2 5 2 5 9 6\n",
      " 5 2 2 6 4 4 8 3 2 0 8 7 6 3 5 3 4 4 0 5 3 4 0 4 4 0 3 0 3 3 6 4 3 7 7 3 3\n",
      " 6 4 8 2 3 3 9 2 0 1 6 2 8 6 4 9 6 6 9 3 3 0 4 7 0 3 6 7 9 4 1 0 4 4 5 0 9\n",
      " 2 2 6 7 8 1 7 0 6 8 8 4 3 9 2 7 1 4 7 2 9 1 8 4 2 0 9]\n"
     ]
    },
    {
     "data": {
      "text/html": [
       "<div>\n",
       "<style scoped>\n",
       "    .dataframe tbody tr th:only-of-type {\n",
       "        vertical-align: middle;\n",
       "    }\n",
       "\n",
       "    .dataframe tbody tr th {\n",
       "        vertical-align: top;\n",
       "    }\n",
       "\n",
       "    .dataframe thead th {\n",
       "        text-align: right;\n",
       "    }\n",
       "</style>\n",
       "<table border=\"1\" class=\"dataframe\">\n",
       "  <thead>\n",
       "    <tr style=\"text-align: right;\">\n",
       "      <th></th>\n",
       "      <th>0</th>\n",
       "    </tr>\n",
       "  </thead>\n",
       "  <tbody>\n",
       "    <tr>\n",
       "      <th>935</th>\n",
       "      <td>0</td>\n",
       "    </tr>\n",
       "    <tr>\n",
       "      <th>1243</th>\n",
       "      <td>7</td>\n",
       "    </tr>\n",
       "    <tr>\n",
       "      <th>780</th>\n",
       "      <td>4</td>\n",
       "    </tr>\n",
       "    <tr>\n",
       "      <th>488</th>\n",
       "      <td>5</td>\n",
       "    </tr>\n",
       "    <tr>\n",
       "      <th>1022</th>\n",
       "      <td>4</td>\n",
       "    </tr>\n",
       "    <tr>\n",
       "      <th>...</th>\n",
       "      <td>...</td>\n",
       "    </tr>\n",
       "    <tr>\n",
       "      <th>955</th>\n",
       "      <td>8</td>\n",
       "    </tr>\n",
       "    <tr>\n",
       "      <th>1777</th>\n",
       "      <td>4</td>\n",
       "    </tr>\n",
       "    <tr>\n",
       "      <th>658</th>\n",
       "      <td>2</td>\n",
       "    </tr>\n",
       "    <tr>\n",
       "      <th>1317</th>\n",
       "      <td>0</td>\n",
       "    </tr>\n",
       "    <tr>\n",
       "      <th>1068</th>\n",
       "      <td>9</td>\n",
       "    </tr>\n",
       "  </tbody>\n",
       "</table>\n",
       "<p>360 rows × 1 columns</p>\n",
       "</div>"
      ],
      "text/plain": [
       "      0\n",
       "935   0\n",
       "1243  7\n",
       "780   4\n",
       "488   5\n",
       "1022  4\n",
       "...  ..\n",
       "955   8\n",
       "1777  4\n",
       "658   2\n",
       "1317  0\n",
       "1068  9\n",
       "\n",
       "[360 rows x 1 columns]"
      ]
     },
     "execution_count": 25,
     "metadata": {},
     "output_type": "execute_result"
    }
   ],
   "source": [
    "print(model.predict(x_test))\n",
    "y_test"
   ]
  }
 ],
 "metadata": {
  "kernelspec": {
   "display_name": "Python 3 (ipykernel)",
   "language": "python",
   "name": "python3"
  },
  "language_info": {
   "codemirror_mode": {
    "name": "ipython",
    "version": 3
   },
   "file_extension": ".py",
   "mimetype": "text/x-python",
   "name": "python",
   "nbconvert_exporter": "python",
   "pygments_lexer": "ipython3",
   "version": "3.12.0"
  }
 },
 "nbformat": 4,
 "nbformat_minor": 5
}
